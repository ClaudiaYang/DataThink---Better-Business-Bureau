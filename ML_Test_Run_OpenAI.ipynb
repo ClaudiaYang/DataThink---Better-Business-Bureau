{
 "cells": [
  {
   "cell_type": "code",
   "execution_count": 1,
   "metadata": {},
   "outputs": [],
   "source": [
    "import pandas as pd\n",
    "import os as os\n",
    "import numpy as np\n",
    "import matplotlib.pyplot as plt\n",
    "import sys\n",
    "from transformers import pipeline\n",
    "from openai import OpenAI"
   ]
  },
  {
   "cell_type": "code",
   "execution_count": null,
   "metadata": {},
   "outputs": [],
   "source": [
    "client = OpenAI(api_key = '')"
   ]
  },
  {
   "cell_type": "markdown",
   "metadata": {},
   "source": [
    "Test Run"
   ]
  },
  {
   "cell_type": "code",
   "execution_count": 50,
   "metadata": {},
   "outputs": [],
   "source": [
    "response = client.chat.completions.create(\n",
    "            model=\"gpt-3.5-turbo\",\n",
    "            messages=[\n",
    "            #{\"role\": \"system\", \"content\": \"You are a politcally-moderate politician looking to re-elected. You want to show your political neutrality by supporting businesses that everyone agrees deserves benefits.\"}, #example of what you can do with the prompt engineering\n",
    "            {\"role\": \"system\", \"content\": \"You are an ordinary citizen, who is more cynic than the rest. You will classify any company as 1) socially-acceptable 2) socially-neutral 3) socially-dubious or 4) socially-unacceptable. You only can respond with one of the four options.\"},\n",
    "            {\"role\": \"user\", \"content\": \"What is the classification of this company: 35th avenue strip club?.\"}\n",
    "            ]\n",
    "            )"
   ]
  },
  {
   "cell_type": "code",
   "execution_count": 51,
   "metadata": {},
   "outputs": [
    {
     "data": {
      "text/plain": [
       "'3) socially-dubious'"
      ]
     },
     "execution_count": 51,
     "metadata": {},
     "output_type": "execute_result"
    }
   ],
   "source": [
    "response.choices[0].message.content"
   ]
  },
  {
   "cell_type": "markdown",
   "metadata": {},
   "source": [
    "Reading in the datasets"
   ]
  },
  {
   "cell_type": "code",
   "execution_count": 3,
   "metadata": {},
   "outputs": [],
   "source": [
    "bbb_main_businesses = pd.read_csv(\"/Users/christopherwang/Desktop/BBB_DataThink_2/Datasets/Main_BusinessDataBBB_02022024.csv\")\n",
    "bbb_TOB_Rollup = pd.read_csv(\"/Users/christopherwang/Desktop/BBB_DataThink_2/Datasets/bbb_type_of_business_rollup.csv\")"
   ]
  },
  {
   "cell_type": "code",
   "execution_count": 35,
   "metadata": {},
   "outputs": [],
   "source": [
    "bbb_main_businesses = bbb_main_businesses.query(\"`State` == 'GA'\")"
   ]
  },
  {
   "cell_type": "code",
   "execution_count": 39,
   "metadata": {},
   "outputs": [],
   "source": [
    "labels_to_be_processed = np.where(bbb_main_businesses['TOB'].isna(), bbb_main_businesses['Business'], bbb_main_businesses['TOB'] )\n",
    "labels_to_be_processed = pd.Series(labels_to_be_processed)\n",
    "labels_to_be_processed = labels_to_be_processed.rename(\"TOB\")\n",
    "labels_to_be_processed = labels_to_be_processed.drop_duplicates()"
   ]
  },
  {
   "cell_type": "code",
   "execution_count": 40,
   "metadata": {},
   "outputs": [],
   "source": [
    "test_labels = labels_to_be_processed.sample(n = 20)"
   ]
  },
  {
   "cell_type": "markdown",
   "metadata": {},
   "source": [
    "Defining the Function to Iterate Over"
   ]
  },
  {
   "cell_type": "code",
   "execution_count": null,
   "metadata": {},
   "outputs": [],
   "source": [
    "def zeroshot(dataset):\n",
    "    \"\"\"\n",
    "    This function takes in a dataset with a text column and the corresponding support labels of the standardized label.\n",
    "    The function will then apply the zero shot topic classification algorithm to the dataset and return the results.\n",
    "    \"\"\"\n",
    "    results_dict = {}\n",
    "    for i in dataset:\n",
    "        company_description = i\n",
    "        response = client.chat.completions.create(\n",
    "            model=\"gpt-3.5-turbo\",\n",
    "            messages=[\n",
    "            #{\"role\": \"system\", \"content\": \"You are a politcally-moderate politician looking to re-elected. You want to show your political neutrality by supporting businesses that everyone agrees deserves benefits.\"}, #example of what you can do with the prompt engineering\n",
    "            {\"role\": \"system\", \"content\": \"You are an ordinary citizen, who is more cynic than the rest. You will classify any company as 1) socially-acceptable 2) socially-neutral 3) socially-dubious or 4) socially-unacceptable. You only can respond with one of the four options.\"},\n",
    "            {\"role\": \"user\", \"content\": f\"What is the classification of this company: {company_description}?.\"}\n",
    "            ]\n",
    "            )\n",
    "        results_dict[company_description] = response.choices[0].message.content\n",
    "    return results_dict\n",
    "\n",
    "\n",
    "results_classification = zeroshot(test_labels)"
   ]
  },
  {
   "cell_type": "markdown",
   "metadata": {},
   "source": [
    "**IMPORTANT:** storing your results as csv; if not, then we may not be able to access our results for the future without paying a lot more money"
   ]
  },
  {
   "cell_type": "code",
   "execution_count": null,
   "metadata": {},
   "outputs": [],
   "source": [
    "results_df = pd.DataFrame(list(results_classification.items()), columns=['Company Description', 'Classification'])\n",
    "classifications = \"company_classifications.csv\"\n",
    "results_df.to_csv(classifications, index=False)"
   ]
  }
 ],
 "metadata": {
  "kernelspec": {
   "display_name": "Python [conda env:base] *",
   "language": "python",
   "name": "conda-base-py"
  },
  "language_info": {
   "codemirror_mode": {
    "name": "ipython",
    "version": 3
   },
   "file_extension": ".py",
   "mimetype": "text/x-python",
   "name": "python",
   "nbconvert_exporter": "python",
   "pygments_lexer": "ipython3",
   "version": "3.12.7"
  }
 },
 "nbformat": 4,
 "nbformat_minor": 4
}
